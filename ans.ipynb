{
  "nbformat": 4,
  "nbformat_minor": 0,
  "metadata": {
    "colab": {
      "name": "ans.ipynb",
      "provenance": [],
      "collapsed_sections": [],
      "authorship_tag": "ABX9TyMOnf8DdaN2Gg3QK3Fccva3",
      "include_colab_link": true
    },
    "kernelspec": {
      "name": "python3",
      "display_name": "Python 3"
    }
  },
  "cells": [
    {
      "cell_type": "markdown",
      "metadata": {
        "id": "view-in-github",
        "colab_type": "text"
      },
      "source": [
        "<a href=\"https://colab.research.google.com/github/AnastasiyaShishkina/py_work/blob/master/ans.ipynb\" target=\"_parent\"><img src=\"https://colab.research.google.com/assets/colab-badge.svg\" alt=\"Open In Colab\"/></a>"
      ]
    },
    {
      "cell_type": "code",
      "metadata": {
        "id": "5Fx21k_uOUzL",
        "colab_type": "code",
        "colab": {
          "base_uri": "https://localhost:8080/",
          "height": 86
        },
        "outputId": "1ca1c99f-659e-45ad-ca44-1e195e12c496"
      },
      "source": [
        "#С1.1\n",
        "#6.\"Даны катеты прямоугольного треугольника. Найти его гипотенузу и площадь.\"\n",
        "while True:\n",
        "  try:\n",
        "    kat1 = float (input('Введите значение 1 катета: '))\n",
        "    kat2 = float (input('Введите значение 2 катета: '))\n",
        "    import math\n",
        "    print ('Гипотенуза треугольника = ' + str(math.sqrt(kat1**2 + kat2**2)))\n",
        "    print ('Площадь треугольника = ' + str(0.5 * kat1 * kat2))\n",
        "    break\n",
        "  except:\n",
        "    print ('Ошибка! Вы ввели не число. Повторите попытку.')"
      ],
      "execution_count": 4,
      "outputs": [
        {
          "output_type": "stream",
          "text": [
            "Введите значение 1 катета: 10\n",
            "Введите значение 2 катета: 12\n",
            "Гипотенуза треугольника = 15.620499351813308\n",
            "Площадь треугольника = 60.0\n"
          ],
          "name": "stdout"
        }
      ]
    },
    {
      "cell_type": "code",
      "metadata": {
        "id": "JH-dEWQjQ6ij",
        "colab_type": "code",
        "colab": {
          "base_uri": "https://localhost:8080/",
          "height": 121
        },
        "outputId": "d9552eb4-8257-4975-b96a-03e62ba8fa18"
      },
      "source": [
        "#С1.2\n",
        "#56. \"Даны действительные числа a, b, c, x, y. Выяснить, пройдет ли кирпич с ребрами a, b, c в прямоугольное отверстие со сторонами x и y. Просовывать кирпич в отверстие разрешается только так, чтобы каждое из его рёбер было параллельно или перпендикулярно каждой из сторон отверстия.\"\n",
        "while True: \n",
        "  try:\n",
        "   a = float (input('Введите значение ребра кирпича a: '))\n",
        "   b = float (input('Введите значение ребра кирпича b: '))\n",
        "   c = float (input('Введите значение ребра кирпича с: '))\n",
        "   x = float (input('Введите значение стороны отверстия x: '))\n",
        "   y = float (input('Введите значение стороны отверстия y: '))\n",
        "   if ((a<=x) and (b<y)) or ((b<x) and (a<y)) or ((a<x) and (c<y)) or ((c<x) and (a<y)) or ((c<x) and (b<y)) or ((b<x) and (c<y)) :\n",
        "     print ('Кирпич пройдет')\n",
        "   else:\n",
        "     print ('Кирпич не пройдет')\n",
        "   break\n",
        "  except (TypeError, ValueError):\n",
        "   print (\"Ошибка! Вы ввели не число. Повторите попытку.\")\n",
        "  "
      ],
      "execution_count": 70,
      "outputs": [
        {
          "output_type": "stream",
          "text": [
            "Введите значение ребра кирпича a: 1\n",
            "Введите значение ребра кирпича b: 2\n",
            "Введите значение ребра кирпича с: 3\n",
            "Введите значение стороны отверстия x: 4\n",
            "Введите значение стороны отверстия y: 5\n",
            "Кирпич пройдет\n"
          ],
          "name": "stdout"
        }
      ]
    },
    {
      "cell_type": "code",
      "metadata": {
        "id": "jaqKxnTmQ-H7",
        "colab_type": "code",
        "colab": {
          "base_uri": "https://localhost:8080/",
          "height": 1000
        },
        "outputId": "3b203b19-27ed-4497-f040-e1f30379ecbb"
      },
      "source": [
        "#С1.3\n",
        "#120.Построить:\n",
        "#а)Треугольник с вершинами (100,100), (150,100),(80,170)\n",
        "#б)Прямоугольник с вершинами (80,80), (170,80), (170,150), (80, 150)\n",
        "#в)Пятиугольник с вершинами (100,100), (150,100), (170,120), (150,140), (100,140), (80,120)\n",
        "#г)Шестиугольник с вершинами (120,100), (140,120),(140,140),(120,160), (100,140), (100,120)\n",
        "%matplotlib inline\n",
        "import matplotlib.pyplot as plt\n",
        "\n",
        "plt.title(\"Треугольник\")\n",
        "plt.plot((100,150,80,100),(100,100,170,100), 'r')\n",
        "plt.show()\n",
        "\n",
        "plt.title(\"Прямоугольник\")\n",
        "plt.plot((80,170,170,80,80),(80,80,150,150,80), 'g')\n",
        "plt.show()\n",
        "\n",
        "plt.title(\"Пятиугольник\")\n",
        "plt.plot((100,150,170,150,100,100),(100,100,120,140,140,100), 'y')\n",
        "plt.show()\n",
        "\n",
        "plt.title(\"Шестиугольник\")\n",
        "plt.plot((120,140,140,120,100,100,120),(100,120,140,160,140,120,100),color = 'orange')\n",
        "plt.show()"
      ],
      "execution_count": 71,
      "outputs": [
        {
          "output_type": "display_data",
          "data": {
            "image/png": "[encoded data removed]",
            "text/plain": [
              "<Figure size 432x288 with 1 Axes>"
            ]
          },
          "metadata": {
            "tags": [],
            "needs_background": "light"
          }
        },
        {
          "output_type": "display_data",
          "data": {
            "image/png": "[encoded data removed]",
            "text/plain": [
              "<Figure size 432x288 with 1 Axes>"
            ]
          },
          "metadata": {
            "tags": [],
            "needs_background": "light"
          }
        },
        {
          "output_type": "display_data",
          "data": {
            "image/png": "[encoded data removed]",
            "text/plain": [
              "<Figure size 432x288 with 1 Axes>"
            ]
          },
          "metadata": {
            "tags": [],
            "needs_background": "light"
          }
        },
        {
          "output_type": "display_data",
          "data": {
            "image/png": "[encoded data removed]",
            "text/plain": [
              "<Figure size 432x288 with 1 Axes>"
            ]
          },
          "metadata": {
            "tags": [],
            "needs_background": "light"
          }
        }
      ]
    },
    {
      "cell_type": "code",
      "metadata": {
        "id": "DByWDl6JQ_Gs",
        "colab_type": "code",
        "colab": {
          "base_uri": "https://localhost:8080/",
          "height": 86
        },
        "outputId": "79f14ce3-9f0d-49dc-e704-d860e7c39ccb"
      },
      "source": [
        "#С2.1\n",
        "#65. Дано натуральное число n (n>99). Выяснить, верно ли, что n^2 равно кубу суммы цифр числа n.\n",
        "while True: \n",
        "  try: \n",
        "    n = int(input('Введите число n>99: '))\n",
        "    if (n > 99):\n",
        "      sum = 0\n",
        "      N = str(n)\n",
        "      for i in N:\n",
        "        sum += int(i)\n",
        "      if ( (int(n**2) == int(sum)**3)):\n",
        "        print(\"Верно: n^2 равно кубу суммы цифр числа n\")\n",
        "      else:\n",
        "        print(\"Не верно: n^2 не равно кубу суммы цифр числа n\")\n",
        "      break\n",
        "    else: \n",
        "      print(\"Вы ввели число <=99. Повторите попытку.\")\n",
        "  except (TypeError, ValueError):\n",
        "    print (\"Ошибка! Вы ввели не число. Повторите попытку.\")\n"
      ],
      "execution_count": 3,
      "outputs": [
        {
          "output_type": "stream",
          "text": [
            "Введите число n>99: 27\n",
            "Вы ввели число <=99. Повторите попытку.\n",
            "Введите число n>99: 250\n",
            "Не верно: n^2 не равно кубу суммы цифр числа n\n"
          ],
          "name": "stdout"
        }
      ]
    },
    {
      "cell_type": "code",
      "metadata": {
        "id": "6Ctra0PBRB98",
        "colab_type": "code",
        "colab": {
          "base_uri": "https://localhost:8080/",
          "height": 52
        },
        "outputId": "b9981068-1824-4860-f0c1-541dfd2fb3ab"
      },
      "source": [
        "#С2.2\n",
        "#77(г)\n",
        "import math\n",
        "while True: \n",
        "  try: \n",
        "    n = int (input('Введите n: '))\n",
        "    sum=0\n",
        "    a=0\n",
        "    for i in range(1,n+1):\n",
        "      a+=math.sin(i)\n",
        "      sum+=1/a\n",
        "    print('Результат вычисления = ' + str(sum))\n",
        "    break\n",
        "  except (TypeError, ValueError):\n",
        "   print (\"Ошибка! Вы ввели не число. Повторите попытку.\")"
      ],
      "execution_count": 5,
      "outputs": [
        {
          "output_type": "stream",
          "text": [
            "Введите n: 3\n",
            "Результат вычисления = 2.2881452760727377\n"
          ],
          "name": "stdout"
        }
      ]
    },
    {
      "cell_type": "code",
      "metadata": {
        "id": "O-XDGxBqRC7u",
        "colab_type": "code",
        "colab": {
          "base_uri": "https://localhost:8080/",
          "height": 374
        },
        "outputId": "dbea0ead-22ef-4d38-d6ca-9262048a616d"
      },
      "source": [
        "#С2.3\n",
        "#124. Даны семь действительных положительных чисел a1, a2...a7. Построить гистограмму для этих значений.\n",
        "%matplotlib inline\n",
        "import numpy as np\n",
        "import matplotlib.pyplot as plt\n",
        "x = np.arange(1, 8)\n",
        "a = np.random.randint(1, 20, size = 7)\n",
        "fig, ax = plt.subplots()\n",
        "ax.bar(x, a)\n",
        "fig.set_figwidth(6)\n",
        "fig.set_figheight(6)\n",
        "plt.show()\n"
      ],
      "execution_count": 66,
      "outputs": [
        {
          "output_type": "display_data",
          "data": {
            "image/png": "[encoded data removed]",
            "text/plain": [
              "<Figure size 432x432 with 1 Axes>"
            ]
          },
          "metadata": {
            "tags": [],
            "needs_background": "light"
          }
        }
      ]
    },
    {
      "cell_type": "code",
      "metadata": {
        "id": "jm5RsRZXREbt",
        "colab_type": "code",
        "colab": {
          "base_uri": "https://localhost:8080/",
          "height": 121
        },
        "outputId": "2df56c26-e366-4a71-b24e-b9127b28cd95"
      },
      "source": [
        "#С3.1\n",
        "#179(a). Даны натуральные числа n, q1,..., qn. Найти те члены qi последовательности q1,..., qn, которые являются удвоенными нечетными числами.\n",
        "import numpy as np\n",
        "while True: \n",
        "  try: \n",
        "    n = int(input('Введите число n: '))\n",
        "    print ('Случайная последовательность qi: ')\n",
        "    q = np.random.randint(1, 20, size = n)\n",
        "    print (q)\n",
        "    print ('Члены qi последовательности q1,..., qn, которые являются удвоенными нечетными числами:')\n",
        "    for i in q:\n",
        "      if( (i % 2 == 0) and (i / 2) % 2 == 1):\n",
        "        print (i)\n",
        "    break\n",
        "  except (TypeError, ValueError):\n",
        "   print (\"Ошибка! Вы ввели не число. Повторите попытку.\")  \n",
        "\n",
        "   "
      ],
      "execution_count": 23,
      "outputs": [
        {
          "output_type": "stream",
          "text": [
            "Введите число n: 5\n",
            "Случайная последовательность qi: \n",
            "[ 8  8  4 14 10]\n",
            "Члены qi последовательности q1,..., qn, которые являются удвоенными нечетными числами:\n",
            "14\n",
            "10\n"
          ],
          "name": "stdout"
        }
      ]
    },
    {
      "cell_type": "code",
      "metadata": {
        "id": "lHodsb26RHSD",
        "colab_type": "code",
        "colab": {
          "base_uri": "https://localhost:8080/",
          "height": 69
        },
        "outputId": "4d93de83-553d-4e10-fef0-cc5f81f4ded1"
      },
      "source": [
        "#С3.2\n",
        "#139(д). Дано натуральное число n. Получить последовательность b1,..., bn, где при i = 1,2,...,n значение bi равно: 2^i+3^(i+1)\n",
        "import math\n",
        "while True: \n",
        "  try: \n",
        "    n = int(input('Введите число n: '))\n",
        "    b=list()\n",
        "    print('Последовательность b1,..., bn, где при i = 1,2,...,n значение bi равно: 2^i+3^(i+1): ')\n",
        "    for i in range(1,n):\n",
        "      b.append(2**i+3**(i+1))\n",
        "    print (b)\n",
        "    break\n",
        "  except (TypeError, ValueError):\n",
        "   print (\"Ошибка! Вы ввели не число. Повторите попытку.\") "
      ],
      "execution_count": 65,
      "outputs": [
        {
          "output_type": "stream",
          "text": [
            "Введите число n: 3\n",
            "Последовательность b1,..., bn, где при i = 1,2,...,n значение bi равно: 2^i+3^(i+1): \n",
            "[11, 31]\n"
          ],
          "name": "stdout"
        }
      ]
    },
    {
      "cell_type": "code",
      "metadata": {
        "id": "xQfrrZBhRIRT",
        "colab_type": "code",
        "colab": {}
      },
      "source": [
        "#С3.3 (PyChram)\n",
        "#135. Получить на экране изображение действующих электронных часов, показывающих текущее время.\n",
        "from tkinter import *\n",
        "import time\n",
        "root = Tk()\n",
        "time1 = ''\n",
        "clock = Label(root, font=('times', 20, 'bold'), bg='white')\n",
        "clock.pack(fill=BOTH, expand=1)\n",
        "def tick():\n",
        "    global time1\n",
        "    time2 = time.strftime('%H:%M:%S')\n",
        "    if time2 != time1:\n",
        "        time1 = time2\n",
        "        clock.config(text=time2)\n",
        "    clock.after(200, tick)\n",
        "tick()\n",
        "root.mainloop(  )"
      ],
      "execution_count": null,
      "outputs": []
    },
    {
      "cell_type": "code",
      "metadata": {
        "id": "yNPCUhv2RJLQ",
        "colab_type": "code",
        "colab": {
          "base_uri": "https://localhost:8080/",
          "height": 86
        },
        "outputId": "f085c7af-205f-4bff-ffbf-c59da1f2c766"
      },
      "source": [
        "#С4.1\n",
        "#209. Даны натуральное число n, действительное число x. Среди чисел e^(cos(x^2k)*sin(x^3k) (k=1,...,n) найти ближайшее к какому-нибудь целому.\n",
        "import math\n",
        "n=5\n",
        "x=5\n",
        "b=list()\n",
        "c=2\n",
        "z=0\n",
        "minost=500\n",
        "print('Последовательность чисел e^(cos(x^2k)*sin(x^3k):')\n",
        "for i in range(0,n):\n",
        "  m=math.e**math.cos(x**2*i)*math.sin(x**3*i)\n",
        "  b.append(m)\n",
        "  ost=c-m\n",
        "  if ost<minost:\n",
        "    minost=ost\n",
        "    z=m\n",
        "print (b)\n",
        "print('Ближайшее к какому-нибудь целому:')\n",
        "print(z)\n",
        "\n"
      ],
      "execution_count": 63,
      "outputs": [
        {
          "output_type": "stream",
          "text": [
            "Последовательность чисел e^(cos(x^2k)*sin(x^3k):\n",
            "[0.0, -1.6599046729056264, -2.547343427388798, -2.294891067004782, -1.1079862459495085]\n",
            "Ближайшее к какому-нибудь целому:\n",
            "0.0\n"
          ],
          "name": "stdout"
        }
      ]
    },
    {
      "cell_type": "code",
      "metadata": {
        "id": "t-iiN3XnRL8L",
        "colab_type": "code",
        "colab": {
          "base_uri": "https://localhost:8080/",
          "height": 34
        },
        "outputId": "fd54b78c-7f08-4451-b50b-f35fdf678e59"
      },
      "source": [
        "#С4.2\n",
        "#257(д). Выяснить имеется ли среди s1,...,sn пара соседствующих одинаковых символов.\n",
        "str = 'Yo! Have a good day :)'\n",
        "s = ''\n",
        "check = 0\n",
        "for i in str:\n",
        "  if (s == i):\n",
        "    check = 1\n",
        "    print(\"Имеется пара соседствующих одинаковых символов\")\n",
        "    break \n",
        "  else:\n",
        "    s = i\n",
        "if (check == 0):\n",
        "  print('Не имеется пара соседствующих одинаковых символов')"
      ],
      "execution_count": 62,
      "outputs": [
        {
          "output_type": "stream",
          "text": [
            "Имеется пара соседствующих одинаковых символов\n"
          ],
          "name": "stdout"
        }
      ]
    },
    {
      "cell_type": "code",
      "metadata": {
        "id": "9w27X84BRNNs",
        "colab_type": "code",
        "colab": {
          "base_uri": "https://localhost:8080/",
          "height": 316
        },
        "outputId": "cd896da9-88b3-4cbf-8c49-74be6e87842b"
      },
      "source": [
        "#С4.3\n",
        "#173. \n",
        "%matplotlib inline\n",
        "import random\n",
        "import matplotlib.pyplot as plt\n",
        "import pylab\n",
        "import matplotlib.path\n",
        "plt.title(\"Прямоугольники\")\n",
        "n=4\n",
        "mas=list()\n",
        "for i in range(0,4*n-1):\n",
        "  number=random.randint(0,20)\n",
        "  mas.append(number)\n",
        "i=0\n",
        "pylab.xlim (0, 40)\n",
        "pylab.ylim (0,40)\n",
        "pylab.grid()\n",
        "axes = pylab.gca()\n",
        "axes.set_aspect(\"equal\")\n",
        "while i<len(mas):\n",
        "  if ((i%4==0) and (i+4 < len(mas))):\n",
        "     rect_coord = (mas[i], (mas[i+1]))\n",
        "     rect_width = mas[i+2]\n",
        "     rect_height = mas[i+3]\n",
        "  rect = pylab.Rectangle (rect_coord,\n",
        "                            rect_width,\n",
        "                            rect_height,\n",
        "                            color=\"y\")\n",
        "  axes.add_patch (rect)  \n",
        "  i += 1\n",
        "pylab.show()\n",
        "print ('Заданная последовательность: ')\n",
        "print(mas)"
      ],
      "execution_count": 61,
      "outputs": [
        {
          "output_type": "display_data",
          "data": {
            "image/png": "[encoded data removed]",
            "text/plain": [
              "<Figure size 432x288 with 1 Axes>"
            ]
          },
          "metadata": {
            "tags": [],
            "needs_background": "light"
          }
        },
        {
          "output_type": "stream",
          "text": [
            "Заданная последовательность: \n",
            "[19, 7, 20, 7, 7, 10, 2, 3, 11, 17, 7, 4, 15, 18, 12]\n"
          ],
          "name": "stdout"
        }
      ]
    }
  ]
}