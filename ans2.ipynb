{
  "nbformat": 4,
  "nbformat_minor": 0,
  "metadata": {
    "colab": {
      "name": "ans2.ipynb",
      "provenance": [],
      "collapsed_sections": [],
      "authorship_tag": "ABX9TyMJchTEjQsRwPUIMU2jfrK4",
      "include_colab_link": true
    },
    "kernelspec": {
      "name": "python3",
      "display_name": "Python 3"
    }
  },
  "cells": [
    {
      "cell_type": "markdown",
      "metadata": {
        "id": "view-in-github",
        "colab_type": "text"
      },
      "source": [
        "<a href=\"https://colab.research.google.com/github/AnastasiyaShishkina/py_work/blob/master/ans2.ipynb\" target=\"_parent\"><img src=\"https://colab.research.google.com/assets/colab-badge.svg\" alt=\"Open In Colab\"/></a>"
      ]
    },
    {
      "cell_type": "code",
      "metadata": {
        "id": "dqnbVmkh2WJH",
        "colab_type": "code",
        "colab": {
          "base_uri": "https://localhost:8080/",
          "height": 69
        },
        "outputId": "46bfb85b-3827-4e04-d22a-10d5c28a264d"
      },
      "source": [
        "#C5.1\n",
        "#316(a). Найти какое-нибудь слово, оканчивающееся буквой д.\n",
        "str=\"Я очень рад , что нашёл клад\"\n",
        "splitted_text = str.split()\n",
        "check = 0\n",
        "print ('Найденные слова, которые оканчиваются буквой \"д\": ')\n",
        "for i in splitted_text:\n",
        "  if(i[len(i)-1]==\"д\"):\n",
        "    print(i)\n",
        "    check = 1\n",
        "if (check==0):\n",
        "  print ('Не найдены')"
      ],
      "execution_count": 23,
      "outputs": [
        {
          "output_type": "stream",
          "text": [
            "Найденные слова, которые оканчиваются буквой \"д\": \n",
            "рад\n",
            "клад\n"
          ],
          "name": "stdout"
        }
      ]
    },
    {
      "cell_type": "code",
      "metadata": {
        "id": "3p1lJeg5T23Y",
        "colab_type": "code",
        "colab": {
          "base_uri": "https://localhost:8080/",
          "height": 69
        },
        "outputId": "0e38bf4d-8971-4644-86a2-1802e6610c7e"
      },
      "source": [
        "#C5.2\n",
        "#370(б).\n",
        "import math\n",
        "while True:\n",
        "  try:\n",
        "    n = int (input('Введите значение n: '))\n",
        "    ar1=[[0] * n for i in range(n)]\n",
        "    ar2=list()\n",
        "    a=0\n",
        "    print ('Получившаяся матрица: ')\n",
        "    for i in range(1,n):\n",
        "      for j in range(0,n):\n",
        "        if i<j:\n",
        "          a=math.sin(i+j)\n",
        "        elif i==j:\n",
        "          a=1\n",
        "        else:\n",
        "          a = math.asin((i+j)/(2*i+3*j))\n",
        "        mas[i][j]=a\n",
        "    print(mas)\n",
        "    break\n",
        "  except (TypeError, ValueError):\n",
        "   print (\"Ошибка! Вы ввели не число. Повторите попытку.\")"
      ],
      "execution_count": 32,
      "outputs": [
        {
          "output_type": "stream",
          "text": [
            "Введите значение n: 2\n",
            "Получившаяся матрица: \n",
            "[[0, 0, 0], [0.5235987755982989, 1, 0.1411200080598672], [0.5235987755982989, 0.4429110440736389, 1]]\n"
          ],
          "name": "stdout"
        }
      ]
    },
    {
      "cell_type": "code",
      "metadata": {
        "id": "B2UDU8JIT7Fo",
        "colab_type": "code",
        "colab": {
          "base_uri": "https://localhost:8080/",
          "height": 86
        },
        "outputId": "b65c0649-e10c-4130-9a45-4d7113f58a35"
      },
      "source": [
        "#C5.3\n",
        "#1014.\n",
        "import numpy as np\n",
        "def ismagic(a):\n",
        "    if np.array_equal(np.unique(a.sum(axis=1)),np.unique(a.sum(axis=0))):\n",
        "        return True\n",
        "    else:\n",
        "        return False\n",
        "a = np.matrix([[1, 2], [4, 3]])\n",
        "print(ismagic(a))\n",
        "b = np.ones((5,5))\n",
        "print(ismagic(b))\n",
        "c = np.matrix([[2,7,6],[9,5,1],[4,3,8]])\n",
        "print(ismagic(c))\n",
        "d = np.matrix([[17,24,1,8,15],[23,5,7,14,16],[4,6,13,20,22],[10,12,19,21,3],[11,18,25,2,9]])\n",
        "print(ismagic(d))"
      ],
      "execution_count": 33,
      "outputs": [
        {
          "output_type": "stream",
          "text": [
            "False\n",
            "True\n",
            "True\n",
            "True\n"
          ],
          "name": "stdout"
        }
      ]
    },
    {
      "cell_type": "code",
      "metadata": {
        "id": "8K1flD7IUFDc",
        "colab_type": "code",
        "colab": {
          "base_uri": "https://localhost:8080/",
          "height": 121
        },
        "outputId": "2496bb05-3dfe-4a30-c591-de1490a1c25a"
      },
      "source": [
        "#C6.2\n",
        "#136(д).\n",
        "import numpy as np\n",
        "while True:\n",
        "  try:\n",
        "    n = int (input('Введите значение n: '))\n",
        "    a=list()\n",
        "    sum=0\n",
        "    print ('Получившаяся последовательность случайных ai для возведения в квадрат и вычисленная сумма квадратов: ')\n",
        "    for i in range(0,n):\n",
        "      ai=np.random.randint(0,10)\n",
        "      a.append(ai)\n",
        "      sum+=ai**2\n",
        "    print (a)\n",
        "    print (sum)\n",
        "    break\n",
        "  except (TypeError, ValueError):\n",
        "    print (\"Ошибка! Вы ввели не число. Повторите попытку.\")"
      ],
      "execution_count": 44,
      "outputs": [
        {
          "output_type": "stream",
          "text": [
            "Введите значение n: /\n",
            "Ошибка! Вы ввели не число. Повторите попытку.\n",
            "Введите значение n: 3\n",
            "Получившаяся последовательность случайных ai для возведения в квадрат и вычисленная сумма квадратов: \n",
            "[8, 1, 6]\n",
            "101\n"
          ],
          "name": "stdout"
        }
      ]
    },
    {
      "cell_type": "code",
      "metadata": {
        "id": "rqjDRr6AUKGz",
        "colab_type": "code",
        "colab": {
          "base_uri": "https://localhost:8080/",
          "height": 225
        },
        "outputId": "e9fa4c90-1594-40c4-ef1e-95bfbc6e75cb"
      },
      "source": [
        "#С6.3\n",
        "#832. В некоторой библиотеке последний четверг каждого месяца - санитарный день. Дано натуральное число n, означающее номер года. Получить по порядку все числа, на которые в январе, феврале,..., декабре указанного года приходится санитарный день.\n",
        "import calendar\n",
        "n=2020\n",
        "month=13\n",
        "for i in range(1,month):\n",
        "  str= calendar.monthcalendar(n, i)\n",
        "  for j in str:\n",
        "    for x in j:\n",
        "      if (x!=0):\n",
        "        a=calendar.weekday(n,i,x)\n",
        "        if (a==3) and (x!=0):\n",
        "          d=x\n",
        "  print('В', i , 'месяце санитарный день приходится на' , d ,'.', i)\n"
      ],
      "execution_count": 55,
      "outputs": [
        {
          "output_type": "stream",
          "text": [
            "В 1 месяце санитарный день приходится на 30 . 1\n",
            "В 2 месяце санитарный день приходится на 27 . 2\n",
            "В 3 месяце санитарный день приходится на 26 . 3\n",
            "В 4 месяце санитарный день приходится на 30 . 4\n",
            "В 5 месяце санитарный день приходится на 28 . 5\n",
            "В 6 месяце санитарный день приходится на 25 . 6\n",
            "В 7 месяце санитарный день приходится на 30 . 7\n",
            "В 8 месяце санитарный день приходится на 27 . 8\n",
            "В 9 месяце санитарный день приходится на 24 . 9\n",
            "В 10 месяце санитарный день приходится на 29 . 10\n",
            "В 11 месяце санитарный день приходится на 26 . 11\n",
            "В 12 месяце санитарный день приходится на 31 . 12\n"
          ],
          "name": "stdout"
        }
      ]
    }
  ]
}